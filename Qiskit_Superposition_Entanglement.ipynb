{
  "cells": [
    {
      "cell_type": "markdown",
      "metadata": {
        "id": "X2W5OpxSv-y2"
      },
      "source": [
        "# Superposition and Entanglement in Qiskit\n",
        "This notebook demonstrates:\n",
        "1. **Superposition** using a single qubit.\n",
        "2. **Entanglement** using two qubits.\n",
        "We will use Qiskit to create circuits, visualize the states, and measure outcomes."
      ],
      "id": "X2W5OpxSv-y2"
    },
    {
      "cell_type": "code",
      "metadata": {
        "id": "NOQIWRacv-y3",
        "colab": {
          "base_uri": "https://localhost:8080/"
        },
        "outputId": "8a80fc89-a7c9-46e4-c78b-e06a6fc4c1ba"
      },
      "source": [
        "# ===========================\n",
        "# Install Qiskit, Aer and pylatexenc\n",
        "# ===========================\n",
        "!pip install qiskit --quiet\n",
        "!pip install qiskit-aer --quiet\n",
        "\n"
      ],
      "execution_count": 1,
      "outputs": [
        {
          "output_type": "stream",
          "name": "stdout",
          "text": [
            "\u001b[?25l   \u001b[90m━━━━━━━━━━━━━━━━━━━━━━━━━━━━━━━━━━━━━━━━\u001b[0m \u001b[32m0.0/8.0 MB\u001b[0m \u001b[31m?\u001b[0m eta \u001b[36m-:--:--\u001b[0m\r\u001b[2K   \u001b[91m━━━━━━━━━━━━━━━\u001b[0m\u001b[90m╺\u001b[0m\u001b[90m━━━━━━━━━━━━━━━━━━━━━━━━\u001b[0m \u001b[32m3.1/8.0 MB\u001b[0m \u001b[31m91.1 MB/s\u001b[0m eta \u001b[36m0:00:01\u001b[0m\r\u001b[2K   \u001b[91m━━━━━━━━━━━━━━━━━━━━━━━━━━━━━━━━━━━━━━\u001b[0m\u001b[90m╺\u001b[0m\u001b[90m━\u001b[0m \u001b[32m7.6/8.0 MB\u001b[0m \u001b[31m105.0 MB/s\u001b[0m eta \u001b[36m0:00:01\u001b[0m\r\u001b[2K   \u001b[91m━━━━━━━━━━━━━━━━━━━━━━━━━━━━━━━━━━━━━━━\u001b[0m\u001b[91m╸\u001b[0m \u001b[32m8.0/8.0 MB\u001b[0m \u001b[31m103.3 MB/s\u001b[0m eta \u001b[36m0:00:01\u001b[0m\r\u001b[2K   \u001b[90m━━━━━━━━━━━━━━━━━━━━━━━━━━━━━━━━━━━━━━━━\u001b[0m \u001b[32m8.0/8.0 MB\u001b[0m \u001b[31m61.2 MB/s\u001b[0m eta \u001b[36m0:00:00\u001b[0m\n",
            "\u001b[?25h\u001b[?25l   \u001b[90m━━━━━━━━━━━━━━━━━━━━━━━━━━━━━━━━━━━━━━━━\u001b[0m \u001b[32m0.0/2.2 MB\u001b[0m \u001b[31m?\u001b[0m eta \u001b[36m-:--:--\u001b[0m\r\u001b[2K   \u001b[91m━━━━━━━━━━━━━━━━━━━━━━━━━━━━━━━━━━━━━━━\u001b[0m\u001b[91m╸\u001b[0m \u001b[32m2.2/2.2 MB\u001b[0m \u001b[31m170.7 MB/s\u001b[0m eta \u001b[36m0:00:01\u001b[0m\r\u001b[2K   \u001b[90m━━━━━━━━━━━━━━━━━━━━━━━━━━━━━━━━━━━━━━━━\u001b[0m \u001b[32m2.2/2.2 MB\u001b[0m \u001b[31m55.5 MB/s\u001b[0m eta \u001b[36m0:00:00\u001b[0m\n",
            "\u001b[2K   \u001b[90m━━━━━━━━━━━━━━━━━━━━━━━━━━━━━━━━━━━━━━━━\u001b[0m \u001b[32m49.5/49.5 kB\u001b[0m \u001b[31m3.4 MB/s\u001b[0m eta \u001b[36m0:00:00\u001b[0m\n",
            "\u001b[2K   \u001b[90m━━━━━━━━━━━━━━━━━━━━━━━━━━━━━━━━━━━━━━━━\u001b[0m \u001b[32m12.4/12.4 MB\u001b[0m \u001b[31m40.8 MB/s\u001b[0m eta \u001b[36m0:00:00\u001b[0m\n",
            "\u001b[?25h"
          ]
        }
      ],
      "id": "NOQIWRacv-y3"
    },
    {
      "cell_type": "code",
      "metadata": {
        "id": "4vIIe5A0v-y4"
      },
      "source": [
        "# ===========================\n",
        "# Import Libraries\n",
        "# ===========================\n",
        "from qiskit import QuantumCircuit\n",
        "from qiskit_aer import AerSimulator\n",
        "from qiskit.visualization import plot_histogram, plot_bloch_multivector\n",
        "from qiskit.quantum_info import Statevector\n",
        "import matplotlib.pyplot as plt\n"
      ],
      "execution_count": 2,
      "outputs": [],
      "id": "4vIIe5A0v-y4"
    },
    {
      "cell_type": "markdown",
      "metadata": {
        "id": "B_QEU5O6v-y4"
      },
      "source": [
        "## 1. Superposition Example"
      ],
      "id": "B_QEU5O6v-y4"
    },
    {
      "cell_type": "code",
      "metadata": {
        "id": "mPhcfNBxv-y5",
        "colab": {
          "base_uri": "https://localhost:8080/"
        },
        "outputId": "58482e31-6778-4250-e977-716143aba954"
      },
      "source": [
        "# ===========================\n",
        "# Task 1: Superposition\n",
        "# ===========================\n",
        "\n",
        "# Import required libraries\n",
        "from qiskit import QuantumCircuit\n",
        "from qiskit_aer import AerSimulator\n",
        "from qiskit.visualization import plot_histogram, plot_bloch_multivector\n",
        "from qiskit.quantum_info import Statevector\n",
        "import matplotlib.pyplot as plt\n",
        "\n",
        "# Step 1: Create a single-qubit circuit\n",
        "qc_super = QuantumCircuit(1)\n",
        "\n",
        "# Step 2: Apply a Hadamard gate to create superposition\n",
        "qc_super.h(0)\n",
        "\n",
        "# Step 3: Visualize the state on the Bloch sphere\n",
        "state_super = Statevector.from_instruction(qc_super)\n",
        "plot_bloch_multivector(state_super)\n",
        "plt.show()\n",
        "\n",
        "# Step 4: Measure the qubit\n",
        "qc_super.measure_all()\n",
        "\n",
        "# Step 5: Simulate using AerSimulator\n",
        "simulator = AerSimulator()\n",
        "result_super = simulator.run(qc_super, shots=1024).result()\n",
        "counts_super = result_super.get_counts()\n",
        "\n",
        "# Step 6: Display results\n",
        "print(\"Superposition Measurement Counts:\", counts_super)\n",
        "plot_histogram(counts_super)\n",
        "plt.show()\n",
        "\n",
        "# ===========================\n",
        "# Expected Output:\n",
        "# Bloch Sphere → Arrow along X-axis (|+> state)\n",
        "# Histogram → ≈50% '0' and 50% '1'\n",
        "# Example: {'0': 520, '1': 504}\n",
        "# ==========================="
      ],
      "execution_count": 4,
      "outputs": [
        {
          "output_type": "stream",
          "name": "stdout",
          "text": [
            "Superposition Measurement Counts: {'1': 543, '0': 481}\n"
          ]
        }
      ],
      "id": "mPhcfNBxv-y5"
    },
    {
      "cell_type": "markdown",
      "metadata": {
        "id": "PWL3wDZWv-y6"
      },
      "source": [
        "## 2. Entanglement Example"
      ],
      "id": "PWL3wDZWv-y6"
    },
    {
      "cell_type": "code",
      "metadata": {
        "id": "dj2F4Yswv-y6",
        "colab": {
          "base_uri": "https://localhost:8080/"
        },
        "outputId": "6aa1ff9c-3f30-4251-d565-227fec3f1d47"
      },
      "source": [
        "# ===========================\n",
        "# Task 2: Entanglement\n",
        "# ===========================\n",
        "\n",
        "# Import libraries (if not already imported)\n",
        "from qiskit import QuantumCircuit\n",
        "from qiskit_aer import AerSimulator\n",
        "from qiskit.visualization import plot_histogram, plot_bloch_multivector\n",
        "from qiskit.quantum_info import Statevector\n",
        "import matplotlib.pyplot as plt\n",
        "\n",
        "# Step 1: Create a 2-qubit circuit\n",
        "qc_ent = QuantumCircuit(2)\n",
        "\n",
        "# Step 2: Apply Hadamard on qubit 0\n",
        "qc_ent.h(0)\n",
        "\n",
        "# Step 3: Apply CNOT gate (control=0, target=1)\n",
        "qc_ent.cx(0, 1)\n",
        "\n",
        "# Step 4: Visualize the entangled state\n",
        "state_ent = Statevector.from_instruction(qc_ent)\n",
        "print(\"Entangled Statevector:\", state_ent)\n",
        "plot_bloch_multivector(state_ent)\n",
        "plt.show()\n",
        "\n",
        "# Step 5: Measure both qubits\n",
        "qc_ent.measure_all()\n",
        "\n",
        "# Step 6: Simulate the circuit\n",
        "simulator = AerSimulator()\n",
        "result_ent = simulator.run(qc_ent, shots=1024).result()\n",
        "counts_ent = result_ent.get_counts()\n",
        "\n",
        "# Step 7: Display results\n",
        "print(\"Entanglement Measurement Counts:\", counts_ent)\n",
        "plot_histogram(counts_ent)\n",
        "plt.show()\n",
        "\n",
        "# ===========================\n",
        "# Expected Output:\n",
        "# Histogram → Only '00' and '11' outcomes\n",
        "# Example: {'00': 508, '11': 516}\n",
        "# Interpretation → Qubits are entangled\n",
        "# ==========================="
      ],
      "execution_count": 6,
      "outputs": [
        {
          "output_type": "stream",
          "name": "stdout",
          "text": [
            "Entangled Statevector: Statevector([0.70710678+0.j, 0.        +0.j, 0.        +0.j,\n",
            "             0.70710678+0.j],\n",
            "            dims=(2, 2))\n",
            "Entanglement Measurement Counts: {'11': 510, '00': 514}\n"
          ]
        }
      ],
      "id": "dj2F4Yswv-y6"
    }
  ],
  "metadata": {
    "kernelspec": {
      "display_name": "Python 3",
      "name": "python3"
    },
    "language_info": {
      "name": "python",
      "version": "3.10"
    },
    "colab": {
      "provenance": []
    }
  },
  "nbformat": 4,
  "nbformat_minor": 5
}